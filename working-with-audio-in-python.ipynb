{
 "cells": [
  {
   "cell_type": "markdown",
   "id": "eac613a4",
   "metadata": {
    "_cell_guid": "b1076dfc-b9ad-4769-8c92-a6c4dae69d19",
    "_uuid": "8f2839f25d086af736a60e9eeb907d3b93b6e0e5",
    "papermill": {
     "duration": 0.016993,
     "end_time": "2022-02-24T21:18:58.535866",
     "exception": false,
     "start_time": "2022-02-24T21:18:58.518873",
     "status": "completed"
    },
    "tags": []
   },
   "source": [
    "# 🔊 Working with Audio in Python\n",
    "\n",
    "<img src=\"https://miro.medium.com/max/1100/1*Zx9QAMPzxhama9O4q9xWXg.jpeg\" width=\"600\"/>\n",
    "\n",
    "This notebook is intended to be an introduction for anyone interested in using python to interperate audio data.\n",
    "\n",
    "Please watch the youtube video that discusses the contents of this notebook if you want to learn more!\n",
    "- [Video Link](https://www.youtube.com/watch?v=ZqpSb5p1xQo)\n",
    "- [Youtube Channel](https://www.youtube.com/channel/UCxladMszXan-jfgzyeIMyvw)"
   ]
  },
  {
   "cell_type": "markdown",
   "id": "ba21b5c5",
   "metadata": {
    "papermill": {
     "duration": 0.015326,
     "end_time": "2022-02-24T21:18:58.569871",
     "exception": false,
     "start_time": "2022-02-24T21:18:58.554545",
     "status": "completed"
    },
    "tags": []
   },
   "source": [
    "# Imports"
   ]
  },
  {
   "cell_type": "code",
   "execution_count": 3,
   "id": "d2fd9004",
   "metadata": {
    "execution": {
     "iopub.execute_input": "2022-02-24T21:18:58.607873Z",
     "iopub.status.busy": "2022-02-24T21:18:58.606017Z",
     "iopub.status.idle": "2022-02-24T21:19:01.295494Z",
     "shell.execute_reply": "2022-02-24T21:19:01.296306Z",
     "shell.execute_reply.started": "2022-02-19T21:11:07.502291Z"
    },
    "papermill": {
     "duration": 2.710999,
     "end_time": "2022-02-24T21:19:01.296643",
     "exception": false,
     "start_time": "2022-02-24T21:18:58.585644",
     "status": "completed"
    },
    "tags": []
   },
   "outputs": [],
   "source": [
    "import pandas as pd\n",
    "import numpy as np\n",
    "import matplotlib.pylab as plt\n",
    "import seaborn as sns\n",
    "\n",
    "from glob import glob\n",
    "\n",
    "import librosa\n",
    "import librosa.display\n",
    "import IPython.display as ipd\n",
    "\n",
    "from itertools import cycle\n",
    "\n",
    "sns.set(style=\"white\", palette=None)\n",
    "color_pal = plt.rcParams[\"axes.prop_cycle\"].by_key()[\"color\"]\n",
    "color_cycle = cycle(plt.rcParams[\"axes.prop_cycle\"].by_key()[\"color\"])\n",
    "\n",
    "\n"
   ]
  },
  {
   "cell_type": "markdown",
   "id": "2543dbd1",
   "metadata": {
    "papermill": {
     "duration": 0.016782,
     "end_time": "2022-02-24T21:19:01.330001",
     "exception": false,
     "start_time": "2022-02-24T21:19:01.313219",
     "status": "completed"
    },
    "tags": []
   },
   "source": [
    "# Terms to know for Audio in Digital Form:\n",
    "\n",
    "## Frequency (Hz)\n",
    "- Frequency describes the differences of wave lengths.\n",
    "- We interperate frequency has high and low pitches.\n",
    "\n",
    "<img src=\"https://uploads-cdn.omnicalculator.com/images/britannica-wave-frequency.jpg\" width=\"400\"/>\n",
    "\n",
    "## Intensity (db / power)\n",
    "- Intensity describes the amplitude (height) of the wave.\n",
    "\n",
    "<img src=\"https://ars.els-cdn.com/content/image/3-s2.0-B9780124722804500162-f13-15-9780124722804.gif\" width=\"400\"/>\n",
    "\n",
    "## Sample Rate\n",
    "- Sample rate is specific to how the computer reads in the audio file.\n",
    "- Think of it as the \"resolution\" of the audio.\n",
    "\n",
    "<img src=\"https://www.headphonesty.com/wp-content/uploads/2019/07/Sample-Rate-Bit-Depth-and-Bit-Rate.jpeg\" width=\"400\"/>\n"
   ]
  },
  {
   "cell_type": "markdown",
   "id": "6bcdc703",
   "metadata": {
    "papermill": {
     "duration": 0.018691,
     "end_time": "2022-02-24T21:19:01.364507",
     "exception": false,
     "start_time": "2022-02-24T21:19:01.345816",
     "status": "completed"
    },
    "tags": []
   },
   "source": [
    "# Reading in Audio Files\n",
    "There are many types of audio files: `mp3`, `wav`, `m4a`, `flac`, `ogg`"
   ]
  },
  {
   "cell_type": "code",
   "execution_count": null,
   "id": "90885432",
   "metadata": {
    "execution": {
     "iopub.execute_input": "2022-02-24T21:19:01.402002Z",
     "iopub.status.busy": "2022-02-24T21:19:01.401018Z",
     "iopub.status.idle": "2022-02-24T21:19:02.185418Z",
     "shell.execute_reply": "2022-02-24T21:19:02.184584Z",
     "shell.execute_reply.started": "2022-02-19T21:17:05.561631Z"
    },
    "papermill": {
     "duration": 0.804639,
     "end_time": "2022-02-24T21:19:02.185604",
     "exception": false,
     "start_time": "2022-02-24T21:19:01.380965",
     "status": "completed"
    },
    "tags": []
   },
   "outputs": [],
   "source": [
    "audio_files = glob(\"sampleaudio.wav\")"
   ]
  },
  {
   "cell_type": "code",
   "execution_count": null,
   "id": "6b8acd3e",
   "metadata": {
    "execution": {
     "iopub.execute_input": "2022-02-24T21:19:02.222562Z",
     "iopub.status.busy": "2022-02-24T21:19:02.221767Z",
     "iopub.status.idle": "2022-02-24T21:19:02.261390Z",
     "shell.execute_reply": "2022-02-24T21:19:02.261916Z",
     "shell.execute_reply.started": "2022-02-19T21:17:31.840083Z"
    },
    "papermill": {
     "duration": 0.06053,
     "end_time": "2022-02-24T21:19:02.262088",
     "exception": false,
     "start_time": "2022-02-24T21:19:02.201558",
     "status": "completed"
    },
    "tags": []
   },
   "outputs": [],
   "source": [
    "# Play audio file\n",
    "ipd.Audio(audio_files[0])"
   ]
  },
  {
   "cell_type": "code",
   "execution_count": 9,
   "id": "06e974e4",
   "metadata": {
    "execution": {
     "iopub.execute_input": "2022-02-24T21:19:02.327754Z",
     "iopub.status.busy": "2022-02-24T21:19:02.327018Z",
     "iopub.status.idle": "2022-02-24T21:19:03.296112Z",
     "shell.execute_reply": "2022-02-24T21:19:03.295268Z",
     "shell.execute_reply.started": "2022-02-19T21:19:29.501714Z"
    },
    "papermill": {
     "duration": 1.003943,
     "end_time": "2022-02-24T21:19:03.296370",
     "exception": false,
     "start_time": "2022-02-24T21:19:02.292427",
     "status": "completed"
    },
    "tags": []
   },
   "outputs": [
    {
     "name": "stdout",
     "output_type": "stream",
     "text": [
      "y: [-0.03771973 -0.02212524  0.0246582   0.01687622  0.0246582   0.00906372\n",
      "  0.00125122  0.00125122  0.01687622  0.00906372]\n",
      "shape y: (26843,)\n",
      "sr: 1500\n"
     ]
    },
    {
     "data": {
      "image/png": "[encoded data removed]",
      "text/plain": [
       "<Figure size 720x360 with 1 Axes>"
      ]
     },
     "metadata": {
      "needs_background": "light"
     },
     "output_type": "display_data"
    },
    {
     "name": "stdout",
     "output_type": "stream",
     "text": [
      "(256, 53)\n",
      "[[-74.89500427246094, -72.90739440917969, -80.0, -80.0, -80.0, -80.0, -80.0, -80.0, -80.0, -80.0, -80.0, -80.0, -80.0, -76.76545715332031, -76.15186309814453, -79.54927062988281, -80.0, -80.0, -80.0, -80.0, -80.0, -80.0, -80.0, -80.0, -80.0, -80.0, -80.0, -80.0, -80.0, -80.0, -80.0, -80.0, -80.0, -80.0, -80.0, -80.0, -80.0, -80.0, -80.0, -80.0, -80.0, -74.44779968261719, -75.3440170288086, -80.0, -80.0, -79.25347900390625, -80.0, -80.0, -72.96966552734375, -73.83299255371094, -80.0, -80.0, -80.0], [-74.15731811523438, -78.34577941894531, -80.0, -80.0, -80.0, -80.0, -80.0, -80.0, -80.0, -80.0, -80.0, -80.0, -80.0, -80.0, -80.0, -80.0, -80.0, -80.0, -80.0, -80.0, -80.0, -80.0, -80.0, -80.0, -80.0, -80.0, -80.0, -80.0, -80.0, -80.0, -80.0, -80.0, -80.0, -80.0, -80.0, -80.0, -80.0, -80.0, -80.0, -80.0, -80.0, -80.0, -80.0, -80.0, -80.0, -80.0, -80.0, -80.0, -80.0, -80.0, -80.0, -80.0, -80.0], [-72.73590087890625, -76.24787902832031, -80.0, -80.0, -80.0, -80.0, -80.0, -80.0, -80.0, -80.0, -80.0, -80.0, -80.0, -80.0, -80.0, -80.0, -80.0, -80.0, -80.0, -80.0, -80.0, -80.0, -80.0, -80.0, -80.0, -80.0, -80.0, -80.0, -80.0, -80.0, -80.0, -80.0, -80.0, -80.0, -80.0, -80.0, -80.0, -80.0, -80.0, -80.0, -80.0, -80.0, -80.0, -80.0, -80.0, -80.0, -80.0, -80.0, -80.0, -80.0, -80.0, -80.0, -80.0]]\n"
     ]
    },
    {
     "data": {
      "image/png": "[encoded data removed]",
      "text/plain": [
       "<Figure size 720x360 with 2 Axes>"
      ]
     },
     "metadata": {
      "needs_background": "light"
     },
     "output_type": "display_data"
    }
   ],
   "source": [
    "# y, sr = librosa.load(\"hoot-46198.mp3\", sr=22050)\n",
    "y, sr = librosa.load(\"400Hz-600Hz-800Hz.wav\", sr=1500)\n",
    "print(f'y: {y[:10]}')\n",
    "print(f'shape y: {y.shape}')\n",
    "print(f'sr: {sr}')\n",
    "# f = open(\"hoot-46198.txt\", \"w\")\n",
    "# f.write(y)\n",
    "# f.close()\n",
    "pd.Series(y).plot(figsize=(10, 5),\n",
    "                  lw=1,\n",
    "                  title='Raw Audio Example',\n",
    "                 color=color_pal[0])\n",
    "plt.show()\n",
    "# y = y.astype(float)\n",
    "# # print(f'shape y: {y.shape}')\n",
    "# y = y[5000:10000].tolist()\n",
    "# print(y[0])\n",
    "# y = ','.join('%.4f' %x for x in y)\n",
    "\n",
    "# # f = open(\"hoot-46198_1.txt\", \"w\")\n",
    "# # f.write(y)\n",
    "# # f.close()\n",
    "\n",
    "S = librosa.feature.melspectrogram(y=y,\n",
    "                                  sr=1500,\n",
    "                                  n_mels=128 * 2,)\n",
    "\n",
    "\n",
    "S_db_mel = librosa.amplitude_to_db(S, ref=np.max)\n",
    "print(S_db_mel.shape)\n",
    "spectrumList = S_db_mel.tolist()\n",
    "print(spectrumList[:3])\n",
    "fig, ax = plt.subplots(figsize=(10, 5))\n",
    "# Plot the mel spectogram\n",
    "img = librosa.display.specshow(S_db_mel,\n",
    "                              x_axis='time',\n",
    "                              y_axis='log',\n",
    "                              ax=ax)\n",
    "ax.set_title('Mel Spectogram Example', fontsize=20)\n",
    "fig.colorbar(img, ax=ax, format=f'%0.2f')\n",
    "plt.show()\n",
    "import sounddevice as sd\n",
    "step = 1000\n",
    "sd.play(y, step,blocking=True)"
   ]
  },
  {
   "cell_type": "code",
   "execution_count": 3,
   "id": "62d938a0",
   "metadata": {},
   "outputs": [
    {
     "name": "stdout",
     "output_type": "stream",
     "text": [
      "{'output': [0, 1, 1, 1, 1, 1], 'Calls': 1}\n"
     ]
    },
    {
     "data": {
      "image/png": "[encoded data removed]",
      "text/plain": [
       "<Figure size 432x288 with 2 Axes>"
      ]
     },
     "metadata": {
      "needs_background": "light"
     },
     "output_type": "display_data"
    }
   ],
   "source": [
    "import io\n",
    "\n",
    "import IPython.display as ipd\n",
    "import librosa\n",
    "import librosa.display\n",
    "import pymongo\n",
    "import numpy as np\n",
    "import matplotlib.pyplot as plt\n",
    "\n",
    "\n",
    "with open('mongodbKey', 'r') as file:\n",
    "    MONGO_URL = file.read()\n",
    "dbClient = pymongo.MongoClient(MONGO_URL)\n",
    "DATABASE_NAME = \"mydatabase\"\n",
    "COLLECTION_NAME = \"AudiosTest\"\n",
    "def binaryData2numpy(input):\n",
    "    out, sr = librosa.load(io.BytesIO(input), sr=None)\n",
    "    return out\n",
    "def queryAudio(id):\n",
    "    mycol = dbClient[DATABASE_NAME][COLLECTION_NAME]\n",
    "    myquery = { \"ID\": id}\n",
    "    mydoc = mycol.find_one(myquery)\n",
    "    return mydoc\n",
    "def playNumpy(numpy_array):\n",
    "    import sounddevice as sd\n",
    "    sd.play(numpy_array, sr)\n",
    "    sd.wait()\n",
    "\n",
    "\n",
    "\n",
    "def insertAudio(id, wavfile):\n",
    "    mycol = dbClient[DATABASE_NAME][COLLECTION_NAME]\n",
    "\n",
    "    \n",
    "    f = open(wavfile, \"rb\")\n",
    "    y= f.read()\n",
    "    myInsert = { \"ID\": id, \"fileBytes\" : y}\n",
    "\n",
    "    mycol.insert_one(myInsert)\n",
    "\n",
    "def generateMelSpecBinaryImage(np_array):\n",
    "    S = librosa.feature.melspectrogram(y=np_array,\n",
    "                                  sr=22050,\n",
    "                                  n_mels=128 * 2,)\n",
    "\n",
    "\n",
    "    S_db_mel = librosa.amplitude_to_db(S, ref=np.max)\n",
    "    # fig= plt.figure()\n",
    "    # # Plot the mel spectogram\n",
    "    # img = librosa.display.specshow(S_db_mel,\n",
    "    #                             x_axis='time',\n",
    "    #                             y_axis='log',\n",
    "    #                             ax=ax)\n",
    "    # ax.set_title('Mel Spectogram Example', fontsize=20)\n",
    "    # fig.colorbar(img, ax=ax, format=f'%0.2f')\n",
    "    # plt.show()\n",
    "\n",
    "\n",
    "    fig, ax = plt.subplots()\n",
    "    img = librosa.display.specshow(librosa.power_to_db(S_db_mel, ref=np.max), y_axis='mel', x_axis='time', sr=sr, ax=ax)\n",
    "    fig.colorbar(img, format='%+2.0f dB')\n",
    "    plt.title('Mel spectrogram')\n",
    "    plt.tight_layout()\n",
    "    plt.show()\n",
    "    #     fig = plt.figure(figsize=(10, 4))\n",
    "    # librosa.display.specshow(librosa.power_to_db(S_db_mel, ref=np.max), y_axis='mel', x_axis='time', sr=sr, ax=plt.gca())\n",
    "    # plt.colorbar(format='%+2.0f dB')\n",
    "    # plt.title('Mel spectrogram')\n",
    "    # plt.tight_layout()\n",
    "    # plt.show()\n",
    "\n",
    "def loadMelSpecBinary2Image():\n",
    "    return\n",
    "def updateAudio(id, newVal):\n",
    "    mycol = dbClient[DATABASE_NAME][COLLECTION_NAME]\n",
    "\n",
    "\n",
    "    filter = { 'ID': id }\n",
    " \n",
    "    # Values to be updated.\n",
    "    newvalues = { \"$set\": newVal }\n",
    "    \n",
    "    # Using update_one() method for single\n",
    "    # updation.\n",
    "    mycol.update_one(filter, newvalues)\n",
    "\n",
    "def listAudio():\n",
    "    mycol = dbClient[DATABASE_NAME][COLLECTION_NAME]\n",
    "    return mycol.distinct(\"ID\")\n",
    "def generateID():\n",
    "    from datetime import datetime\n",
    "\n",
    "    timestamp = datetime.now().strftime(\"%Y-%m-%d_%H%M%S\")\n",
    "    print(timestamp)\n",
    "    return timestamp\n",
    "\n",
    "size = 10000\n",
    "sr = 22050\n",
    "ID = \"test4\"\n",
    "# generateID()\n",
    "# print(listAudio())\n",
    "\n",
    "\n",
    "### queryTestAudio\n",
    "doc = queryAudio(ID)\n",
    "print(doc['MLData'])\n",
    "audioNumpy = binaryData2numpy(doc['fileBytes'])\n",
    "\n",
    "# playNumpy(audioNumpy)\n",
    "generateMelSpecBinaryImage(audioNumpy)\n",
    "\n",
    "# ##  updateAudio\n",
    "# newVal = {\"MLData\":{'output': [0, 1, 1, 1, 1, 1], 'Calls': 1}}\n",
    "# updateAudio(ID, newVal)\n",
    "\n",
    "\n",
    "    ### InsertAudio via wav file\n",
    "    # insertAudio(ID, \"sampleaudio.wav\")\n",
    "\n"
   ]
  },
  {
   "cell_type": "code",
   "execution_count": null,
   "id": "3471b807",
   "metadata": {
    "execution": {
     "iopub.execute_input": "2022-02-24T21:19:03.371093Z",
     "iopub.status.busy": "2022-02-24T21:19:03.370020Z",
     "iopub.status.idle": "2022-02-24T21:19:03.787005Z",
     "shell.execute_reply": "2022-02-24T21:19:03.787553Z",
     "shell.execute_reply.started": "2022-02-19T21:21:03.374821Z"
    },
    "papermill": {
     "duration": 0.453401,
     "end_time": "2022-02-24T21:19:03.787736",
     "exception": false,
     "start_time": "2022-02-24T21:19:03.334335",
     "status": "completed"
    },
    "tags": []
   },
   "outputs": [],
   "source": [
    "y,sr = librosa.load(\"training/owl/owl-hooting-48028.mp3\",sr=22050)\n",
    "pd.Series(y).plot(figsize=(10, 5),\n",
    "                  lw=1,\n",
    "                  title='Raw Audio Example',\n",
    "                 color=color_pal[0])\n",
    "plt.show()\n",
    "ipd.Audio(\"training/owl/owl-hooting-48028.mp3\")"
   ]
  },
  {
   "cell_type": "code",
   "execution_count": null,
   "id": "4ba4b7d2",
   "metadata": {
    "execution": {
     "iopub.execute_input": "2022-02-24T21:19:03.856483Z",
     "iopub.status.busy": "2022-02-24T21:19:03.852916Z",
     "iopub.status.idle": "2022-02-24T21:19:04.136801Z",
     "shell.execute_reply": "2022-02-24T21:19:04.137603Z",
     "shell.execute_reply.started": "2022-02-19T21:23:54.390029Z"
    },
    "papermill": {
     "duration": 0.318564,
     "end_time": "2022-02-24T21:19:04.137794",
     "exception": false,
     "start_time": "2022-02-24T21:19:03.819230",
     "status": "completed"
    },
    "tags": []
   },
   "outputs": [],
   "source": [
    "y,sr = librosa.load(\"training/1owl/owl-hooting-48028.mp3\",sr=22050)\n",
    "pd.Series(y).plot(figsize=(10, 5),\n",
    "                  lw=1,\n",
    "                  title='Raw Audio Example',\n",
    "                 color=color_pal[0])\n",
    "plt.show()\n",
    "ipd.Audio(\"training/1owl/owl-hooting-48028.mp3\")\n",
    "### this code trims and front and back and then puts it into chunks\n",
    "# Trimming leading/lagging silence\n",
    "y_trimmed, _ = librosa.effects.trim(y, top_db=20)\n",
    "pd.Series(y_trimmed).plot(figsize=(10, 5),\n",
    "                  lw=1,\n",
    "                  title='Raw Audio Trimmed Example',\n",
    "                 color=color_pal[1])\n",
    "plt.show()\n",
    "\n",
    "\n",
    "def cut_song(song, step = 10000):\n",
    "  song_pieces = []\n",
    "  \n",
    "  # for i in range(start, end, step):\n",
    "  #   song_pieces.append(song[i:i+step])\n",
    "  y_split = librosa.effects.split(song, top_db=20)\n",
    "  for i in y_split:\n",
    "    segment = song[i[0]:i[1]]\n",
    "    for j in range(0, (len(segment)-int(step/2)), step):\n",
    "\n",
    "      song_pieces.append(segment[j:j+step])\n",
    "  return song_pieces\n",
    "  \n",
    "# y_split = librosa.effects.split(y, top_db=20)\n",
    "# print(\"ysplit\", y_split)\n",
    "\n",
    "# for i in y_split:\n",
    "#   pd.Series(i).plot(figsize=(10, 5),\n",
    "#                     lw=1,\n",
    "#                     title='Raw Audio Trimmed Example',\n",
    "#                   color=color_pal[1])\n",
    "yCut = cut_song(y_trimmed, 10000)\n",
    "\n",
    "\n",
    "for i in yCut:\n",
    "  pd.Series(i).plot(figsize=(10, 5),\n",
    "                    lw=1,\n",
    "                    title='Raw Audio Trimmed1 Example',\n",
    "                  color=color_pal[1])\n",
    "\n",
    "  plt.show()\n",
    "S = librosa.feature.melspectrogram(y=yCut[0],\n",
    "                                  sr=sr,\n",
    "                                  n_mels=128 * 2,)\n",
    "\n",
    "S_db_mel = librosa.amplitude_to_db(S, ref=np.max)\n",
    "fig, ax = plt.subplots(figsize=(10, 5))\n",
    "# Plot the mel spectogram\n",
    "img = librosa.display.specshow(S_db_mel,\n",
    "                              x_axis='time',\n",
    "                              y_axis='log',\n",
    "                              ax=ax)\n",
    "ax.set_title('Mel Spectogram Example', fontsize=20)\n",
    "fig.colorbar(img, ax=ax, format=f'%0.2f')\n",
    "plt.show()\n"
   ]
  },
  {
   "cell_type": "code",
   "execution_count": null,
   "id": "abb69de1",
   "metadata": {},
   "outputs": [],
   "source": [
    "\n",
    "y,sr = librosa.load(\"training/seagull/seagulls-5863.mp3\",sr=22050)\n",
    "pd.Series(y).plot(figsize=(10, 5),\n",
    "                  lw=1,\n",
    "                  title='Raw Audio Example',\n",
    "                 color=color_pal[0])\n",
    "plt.show()\n",
    "ipd.Audio(\"training/owl/owl-hooting-48028.mp3\")### this code trims and front and back and then puts it into chunks\n",
    "# Trimming leading/lagging silence\n",
    "y_trimmed, _ = librosa.effects.trim(y, top_db=20)\n",
    "pd.Series(y_trimmed).plot(figsize=(10, 5),\n",
    "                  lw=1,\n",
    "                  title='Raw Audio Trimmed Example',\n",
    "                 color=color_pal[1])\n",
    "plt.show()\n",
    "\n",
    "\n",
    "def cut_song(song, step = 10000):\n",
    "  song_pieces = []\n",
    "  \n",
    "  # for i in range(start, end, step):\n",
    "  #   song_pieces.append(song[i:i+step])\n",
    "  y_split = librosa.effects.split(song, top_db=20)\n",
    "  for i in y_split:\n",
    "    segment = song[i[0]:i[1]]\n",
    "    for j in range(0, (len(segment)-int(step/2)), step):\n",
    "\n",
    "      song_pieces.append(segment[j:j+step])\n",
    "  return song_pieces\n",
    "  \n",
    "# y_split = librosa.effects.split(y, top_db=20)\n",
    "# print(\"ysplit\", y_split)\n",
    "\n",
    "# for i in y_split:\n",
    "#   pd.Series(i).plot(figsize=(10, 5),\n",
    "#                     lw=1,\n",
    "#                     title='Raw Audio Trimmed Example',\n",
    "#                   color=color_pal[1])\n",
    "yCut = cut_song(y_trimmed, 10000)\n",
    "\n",
    "\n",
    "for i in yCut:\n",
    "  pd.Series(i).plot(figsize=(10, 5),\n",
    "                    lw=1,\n",
    "                    title='Raw Audio Trimmed1 Example',\n",
    "                  color=color_pal[1])\n",
    "\n",
    "  plt.show()\n"
   ]
  },
  {
   "attachments": {},
   "cell_type": "markdown",
   "id": "5c4b36c0",
   "metadata": {},
   "source": [
    "from a file list, convert list to nnumpy, and then play audio"
   ]
  },
  {
   "cell_type": "code",
   "execution_count": 21,
   "id": "e2a49d47",
   "metadata": {},
   "outputs": [
    {
     "name": "stdout",
     "output_type": "stream",
     "text": [
      "(18688,)\n",
      "[-1.04923826 -0.67818775 -1.42028878  0.06391329 -0.67818775 -1.7913393\n",
      "  0.06391329  1.54811537  1.54811537 -0.67818775]\n",
      "(256, 37)\n",
      "[[-1.4011954154316442, 0.0, -17.12380080398809, -22.954026547437138, -15.772862402771338, -18.596751384153535, -16.649455191091477, -12.71971258620431, -10.817939983496913, -13.11783085557397, -20.027824958115858, -22.17408156879351, -20.937253025156963, -37.6079792529321, -51.38202182751963, -14.95573044606256, -1.8676963078068098, -11.533671919788148, -80.0, -24.787903124007272, -24.143606144570626, -47.99543466834746, -42.8829946959608, -62.246877187248515, -78.00766932917725, -62.84909853737433, -49.244810957135115, -47.67242318491677, -55.42426812343037, -52.72321859754844, -45.19306041555456, -52.70456013643917, -44.3178929255008, -42.64901372525121, -44.39468674602778, -52.422750539466975, -48.33507995562226], [-10.533322226297798, -12.187933335403542, -25.312743314068456, -22.249293481438855, -40.03350301581175, -52.26069540026348, -71.04474884595636, -28.8198357277751, -19.908479752108192, -35.74827370643203, -45.37118741171792, -56.112235781637125, -34.670675471640784, -41.964688686219425, -55.20683364790956, -19.469371329610084, -9.966324027134633, -18.689344258497215, -59.098305118169954, -29.70616701107342, -30.838314590006092, -41.39086355125579, -51.30777720135224, -67.95889013741366, -61.97173972343222, -53.963011571652906, -53.42984877725661, -54.507615031493984, -70.85592535489295, -48.00780388532107, -52.328306778277664, -46.643480985934616, -44.23910361542209, -54.06577856437808, -56.61676480280154, -57.08885332451226, -46.76305723137758], [-25.444798475674787, -25.589635410737472, -22.982425507079363, -22.847707632755885, -41.47986361789057, -53.906284397367955, -74.32122429028867, -30.259790768637664, -24.408177463165792, -32.40061757082414, -43.518727610827625, -47.71360284565048, -39.94877468802468, -51.28150822564881, -58.24009309686645, -26.67812231566009, -24.549786935154017, -29.760630605341618, -42.80580164909695, -31.21200619317812, -36.77992178112685, -45.706099232986396, -56.64040660481558, -59.73384913989044, -51.38789812074456, -41.72574058895804, -41.55264011087751, -44.337937287361164, -49.017944999961344, -46.187818590208664, -52.888089678767464, -43.55258070464856, -41.411336234066624, -54.59872571490938, -66.91421142173604, -62.11777593081163, -46.060178218986124]]\n"
     ]
    },
    {
     "data": {
      "image/png": "[encoded data removed]",
      "text/plain": [
       "<Figure size 720x360 with 1 Axes>"
      ]
     },
     "metadata": {
      "needs_background": "light"
     },
     "output_type": "display_data"
    },
    {
     "data": {
      "image/png": "[encoded data removed]",
      "text/plain": [
       "<Figure size 720x360 with 2 Axes>"
      ]
     },
     "metadata": {
      "needs_background": "light"
     },
     "output_type": "display_data"
    }
   ],
   "source": [
    "import numpy as np\n",
    "import pandas as pd\n",
    "\n",
    "# File_data = np.loadtxt(\"SAASFreqTest2Values.txt\", dtype=float)\n",
    "f = open(\"dataSample330.txt\", \"r\")\n",
    "# f = open(\"SAASFreqTest2Values.txt\", \"r\")\n",
    "input = f.readlines()\n",
    "import ast\n",
    "\n",
    "audio = []\n",
    "for i in input:\n",
    "    l = ast.literal_eval(i)\n",
    "    audio.append(l)\n",
    "audio = np.array(audio).flatten().astype(np.int32)\n",
    "print(audio.shape)\n",
    "# audio = np.array([ np.float32((s>>2)/(32768.0)) for s in audio])\n",
    "\n",
    "audio = (audio - np.mean(audio)) / np.std(audio)\n",
    "\n",
    "audio = audio\n",
    "print(audio[:10])\n",
    "import sounddevice as sd\n",
    "step = 1000\n",
    "sd.play(audio, step,blocking=False)\n",
    "xticks = np.linspace(0, len(audio), int(len(audio)/step))\n",
    "\n",
    "pd.Series(audio).plot(figsize=(10, 5),\n",
    "                    lw=1,\n",
    "                    title='Raw Audio from file',\n",
    "                  color=color_pal[1])\n",
    "\n",
    "S = librosa.feature.melspectrogram(y=audio,\n",
    "                                  sr=22050,\n",
    "                                  n_mels=128 * 2,)\n",
    "\n",
    "\n",
    "S_db_mel = librosa.amplitude_to_db(S, ref=np.max)\n",
    "print(S_db_mel.shape)\n",
    "spectrumList = S_db_mel.tolist()\n",
    "print(spectrumList[:3])\n",
    "fig, ax = plt.subplots(figsize=(10, 5))\n",
    "# Plot the mel spectogram\n",
    "img = librosa.display.specshow(S_db_mel,\n",
    "                              x_axis='time',\n",
    "                              y_axis='log',\n",
    "                              ax=ax)\n",
    "ax.set_title('Mel Spectogram Example', fontsize=20)\n",
    "fig.colorbar(img, ax=ax, format=f'%0.2f')\n",
    "plt.show()\n"
   ]
  },
  {
   "cell_type": "code",
   "execution_count": 13,
   "id": "e401831d",
   "metadata": {},
   "outputs": [
    {
     "name": "stdout",
     "output_type": "stream",
     "text": [
      "1500\n"
     ]
    }
   ],
   "source": [
    "import io\n",
    "f = open(\"400Hz-600Hz-800Hz.wav\", \"rb\")\n",
    "y= f.read()\n",
    "out, sr = librosa.load(io.BytesIO(y), sr=None)\n",
    "import sounddevice as sd\n",
    "sd.play(out, sr)\n",
    "sd.wait()\n",
    "print(sr)"
   ]
  },
  {
   "cell_type": "code",
   "execution_count": null,
   "id": "ac0778ac",
   "metadata": {},
   "outputs": [],
   "source": [
    "# Trimming leading/lagging silence\n",
    "y_trimmed, _ = librosa.effects.trim(y, top_db=20)\n",
    "pd.Series(y_trimmed).plot(figsize=(10, 5),\n",
    "                  lw=1,\n",
    "                  title='Raw Audio Trimmed Example',\n",
    "                 color=color_pal[1])\n",
    "plt.show()\n",
    "\n",
    "\n",
    "def cut_song(song, step = 10000):\n",
    "  start = 0\n",
    "  end = len(song)\n",
    "  song_pieces = []\n",
    "  for i in range(start, end, step):\n",
    "    song_pieces.append(song[i:i+step])\n",
    "  return song_pieces\n",
    "\n",
    "\n",
    "yCut = cut_song(y_trimmed, 20000)\n",
    "\n",
    "\n",
    "for i in yCut:\n",
    "  pd.Series(i).plot(figsize=(10, 5),\n",
    "                    lw=1,\n",
    "                    title='Raw Audio Trimmed1 Example',\n",
    "                  color=color_pal[1])\n",
    "\n",
    "  plt.show()\n"
   ]
  },
  {
   "cell_type": "code",
   "execution_count": null,
   "id": "aaa029ee",
   "metadata": {
    "execution": {
     "iopub.execute_input": "2022-02-24T21:19:04.208268Z",
     "iopub.status.busy": "2022-02-24T21:19:04.207159Z",
     "iopub.status.idle": "2022-02-24T21:19:04.605712Z",
     "shell.execute_reply": "2022-02-24T21:19:04.606289Z",
     "shell.execute_reply.started": "2022-02-19T21:25:40.965307Z"
    },
    "papermill": {
     "duration": 0.43498,
     "end_time": "2022-02-24T21:19:04.606469",
     "exception": false,
     "start_time": "2022-02-24T21:19:04.171489",
     "status": "completed"
    },
    "tags": []
   },
   "outputs": [],
   "source": [
    "pd.Series(y[30000:30500]).plot(figsize=(10, 5),\n",
    "                  lw=1,\n",
    "                  title='Raw Audio Zoomed In Example',\n",
    "                 color=color_pal[2])\n",
    "plt.show()"
   ]
  },
  {
   "cell_type": "markdown",
   "id": "f3636633",
   "metadata": {
    "papermill": {
     "duration": 0.033194,
     "end_time": "2022-02-24T21:19:04.672839",
     "exception": false,
     "start_time": "2022-02-24T21:19:04.639645",
     "status": "completed"
    },
    "tags": []
   },
   "source": [
    "# Spectogram"
   ]
  },
  {
   "cell_type": "code",
   "execution_count": null,
   "id": "3c0287ea",
   "metadata": {
    "execution": {
     "iopub.execute_input": "2022-02-24T21:19:04.744165Z",
     "iopub.status.busy": "2022-02-24T21:19:04.743136Z",
     "iopub.status.idle": "2022-02-24T21:19:04.757581Z",
     "shell.execute_reply": "2022-02-24T21:19:04.758142Z",
     "shell.execute_reply.started": "2022-02-19T21:28:11.620858Z"
    },
    "papermill": {
     "duration": 0.05204,
     "end_time": "2022-02-24T21:19:04.758335",
     "exception": false,
     "start_time": "2022-02-24T21:19:04.706295",
     "status": "completed"
    },
    "tags": []
   },
   "outputs": [],
   "source": [
    "D = librosa.stft(y)\n",
    "S_db = librosa.amplitude_to_db(np.abs(D), ref=np.max)\n",
    "S_db.shape"
   ]
  },
  {
   "cell_type": "code",
   "execution_count": null,
   "id": "0c4db9fc",
   "metadata": {
    "execution": {
     "iopub.execute_input": "2022-02-24T21:19:04.832715Z",
     "iopub.status.busy": "2022-02-24T21:19:04.831723Z",
     "iopub.status.idle": "2022-02-24T21:19:05.275825Z",
     "shell.execute_reply": "2022-02-24T21:19:05.276371Z",
     "shell.execute_reply.started": "2022-02-19T21:30:40.191193Z"
    },
    "papermill": {
     "duration": 0.483759,
     "end_time": "2022-02-24T21:19:05.276545",
     "exception": false,
     "start_time": "2022-02-24T21:19:04.792786",
     "status": "completed"
    },
    "tags": []
   },
   "outputs": [],
   "source": [
    "# Plot the transformed audio data\n",
    "fig, ax = plt.subplots(figsize=(10, 5))\n",
    "img = librosa.display.specshow(S_db,\n",
    "                              x_axis='time',\n",
    "                              y_axis='log',\n",
    "                              ax=ax)\n",
    "ax.set_title('Spectogram Example', fontsize=20)\n",
    "fig.colorbar(img, ax=ax, format=f'%0.2f')\n",
    "plt.show()"
   ]
  },
  {
   "cell_type": "markdown",
   "id": "6a533a2f",
   "metadata": {
    "papermill": {
     "duration": 0.036686,
     "end_time": "2022-02-24T21:19:05.351601",
     "exception": false,
     "start_time": "2022-02-24T21:19:05.314915",
     "status": "completed"
    },
    "tags": []
   },
   "source": [
    "# Mel Spectogram"
   ]
  },
  {
   "cell_type": "code",
   "execution_count": null,
   "id": "ea069241",
   "metadata": {
    "execution": {
     "iopub.execute_input": "2022-02-24T21:19:05.430840Z",
     "iopub.status.busy": "2022-02-24T21:19:05.429736Z",
     "iopub.status.idle": "2022-02-24T21:19:05.461471Z",
     "shell.execute_reply": "2022-02-24T21:19:05.463304Z",
     "shell.execute_reply.started": "2022-02-19T21:37:18.363427Z"
    },
    "papermill": {
     "duration": 0.074872,
     "end_time": "2022-02-24T21:19:05.463601",
     "exception": false,
     "start_time": "2022-02-24T21:19:05.388729",
     "status": "completed"
    },
    "tags": []
   },
   "outputs": [],
   "source": [
    "S = librosa.feature.melspectrogram(y=y,\n",
    "                                   sr=sr,\n",
    "                                   n_mels=128 * 2,)\n",
    "\n",
    "S_db_mel = librosa.amplitude_to_db(S, ref=np.max)"
   ]
  },
  {
   "cell_type": "code",
   "execution_count": null,
   "id": "12f806f1",
   "metadata": {
    "execution": {
     "iopub.execute_input": "2022-02-24T21:19:05.597534Z",
     "iopub.status.busy": "2022-02-24T21:19:05.596499Z",
     "iopub.status.idle": "2022-02-24T21:19:05.966866Z",
     "shell.execute_reply": "2022-02-24T21:19:05.966223Z",
     "shell.execute_reply.started": "2022-02-19T21:37:18.726533Z"
    },
    "papermill": {
     "duration": 0.430169,
     "end_time": "2022-02-24T21:19:05.967009",
     "exception": false,
     "start_time": "2022-02-24T21:19:05.536840",
     "status": "completed"
    },
    "tags": []
   },
   "outputs": [],
   "source": [
    "S = librosa.feature.melspectrogram(y=y,\n",
    "                                   sr=sr,\n",
    "                                   n_mels=128 * 2,)\n",
    "\n",
    "S_db_mel = librosa.amplitude_to_db(S, ref=np.max)\n",
    "fig, ax = plt.subplots(figsize=(10, 5))\n",
    "# Plot the mel spectogram\n",
    "img = librosa.display.specshow(S_db_mel,\n",
    "                              x_axis='time',\n",
    "                              y_axis='log',\n",
    "                              ax=ax)\n",
    "ax.set_title('Mel Spectogram Example', fontsize=20)\n",
    "fig.colorbar(img, ax=ax, format=f'%0.2f')\n",
    "plt.show()"
   ]
  },
  {
   "cell_type": "code",
   "execution_count": null,
   "id": "9b4dc20b",
   "metadata": {},
   "outputs": [],
   "source": [
    "pre_emphasis = 0.97\n",
    "emphasized_audio = np.append(y[0], y[1:] - pre_emphasis * y[:-1])\n",
    "\n",
    "pd.Series(emphasized_audio).plot(figsize=(10, 5),\n",
    "                  lw=1,\n",
    "                  title='Emp Audio Example',\n",
    "                 color=color_pal[0])\n",
    "plt.show()\n",
    "normalized_audio = (y - np.mean(y)) / np.std(y)\n",
    "pd.Series(normalized_audio).plot(figsize=(10, 5),\n",
    "                  lw=1,\n",
    "                  title='Norm Audio Example',\n",
    "                 color=color_pal[0])\n",
    "\n",
    "# y_resampled = librosa.resample(y, sr, 10)\n",
    "\n",
    "# pd.Series(y_resampled).plot(figsize=(10, 5),\n",
    "#                   lw=1,\n",
    "#                   title='resample Audio Example',\n",
    "#                  color=color_pal[0])\n",
    "\n"
   ]
  }
 ],
 "metadata": {
  "kernelspec": {
   "display_name": "base",
   "language": "python",
   "name": "python3"
  },
  "language_info": {
   "codemirror_mode": {
    "name": "ipython",
    "version": 3
   },
   "file_extension": ".py",
   "mimetype": "text/x-python",
   "name": "python",
   "nbconvert_exporter": "python",
   "pygments_lexer": "ipython3",
   "version": "3.8.3"
  },
  "papermill": {
   "default_parameters": {},
   "duration": 19.657003,
   "end_time": "2022-02-24T21:19:07.021329",
   "environment_variables": {},
   "exception": null,
   "input_path": "__notebook__.ipynb",
   "output_path": "__notebook__.ipynb",
   "parameters": {},
   "start_time": "2022-02-24T21:18:47.364326",
   "version": "2.3.3"
  },
  "vscode": {
   "interpreter": {
    "hash": "ad17c2651b7428e7e567fe245ea5c5c4158643910a3341d44bd7925570c7d39a"
   }
  }
 },
 "nbformat": 4,
 "nbformat_minor": 5
}
